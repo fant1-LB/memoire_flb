{
 "cells": [
  {
   "cell_type": "code",
   "execution_count": 9,
   "id": "0d785fcb",
   "metadata": {},
   "outputs": [],
   "source": [
    "import re\n",
    "import pandas as pd\n",
    "import os\n"
   ]
  },
  {
   "cell_type": "code",
   "execution_count": 10,
   "id": "3baf567d",
   "metadata": {},
   "outputs": [],
   "source": [
    "def creer_liste_text(i):\n",
    "\n",
    "    with open(f\"resultats_scrapping\\\\annee{i}\\\\images_zones_V2_{i}.txt\",\"r\", encoding='utf-8') as f:\n",
    "        texte = f.read()\n",
    "    \n",
    "    liste_texte = texte.split(\"/>\")\n",
    "    return liste_texte\n",
    "\n",
    "\n"
   ]
  },
  {
   "cell_type": "code",
   "execution_count": 11,
   "id": "c0138535",
   "metadata": {},
   "outputs": [],
   "source": [
    "def obtenir_coordonnnees(liste_texte):\n",
    "    liste_coords=[]\n",
    "    for i in liste_texte:\n",
    "        coord=re.findall(r'coords=\"\\d+(?:,\\d+)*\"', i)\n",
    "        coord= str(coord)\n",
    "        liste_coords.append(coord)\n",
    "    return liste_coords"
   ]
  },
  {
   "cell_type": "code",
   "execution_count": 12,
   "id": "74f384bb",
   "metadata": {},
   "outputs": [],
   "source": [
    "def obtenir_titres(liste_texte):\n",
    "\n",
    "    liste_titres=[]\n",
    "    for i in liste_texte:\n",
    "\n",
    "        titre = re.findall(r'title=\".*\"', i)\n",
    "        titre= str(titre)\n",
    "        liste_titres.append(titre)\n",
    "    return liste_titres\n"
   ]
  },
  {
   "cell_type": "code",
   "execution_count": 13,
   "id": "d01e1eda",
   "metadata": {},
   "outputs": [],
   "source": [
    "def obtenir_id_arcade(liste_texte):\n",
    "    liste_arcade =[]\n",
    "    for i in liste_texte:\n",
    "        arcade = re.findall(r\"'arcade','.*'\\)\",i)\n",
    "        arcade= str(arcade)\n",
    "        liste_arcade.append(arcade)\n",
    "    return liste_arcade\n"
   ]
  },
  {
   "cell_type": "code",
   "execution_count": 14,
   "id": "fe1d91f7",
   "metadata": {},
   "outputs": [],
   "source": [
    "def return_csv(liste_titres, liste_coords, liste_arcade, i):   \n",
    "    df= pd.DataFrame()\n",
    "    df['titre']= liste_titres\n",
    "    df['coordonnées']=liste_coords\n",
    "    df['id_arcade']= liste_arcade\n",
    "    df2 =df.drop_duplicates()\n",
    "    df2 = df2[df2['id_arcade'] != \"[]\"]\n",
    "    df2=df2.reset_index(drop=True)\n",
    "    # df.head(30)\n",
    "    os.makedirs(\"coordonnees_completes\", exist_ok=True)\n",
    "    df2.to_csv(f\"coordonnees_completes\\\\tableau_coordonnees{i}.csv\", sep=';', encoding='utf-8')\n",
    "    "
   ]
  },
  {
   "cell_type": "code",
   "execution_count": 15,
   "id": "ec2c9ae2",
   "metadata": {},
   "outputs": [],
   "source": [
    "def toutes_les_operation(i):\n",
    "    liste_texte = creer_liste_text(i)\n",
    "    return_csv(obtenir_titres(liste_texte), obtenir_coordonnnees(liste_texte), obtenir_id_arcade(liste_texte), i)\n",
    "    return f\"Done for {i}\""
   ]
  },
  {
   "cell_type": "code",
   "execution_count": 16,
   "id": "836b20d8",
   "metadata": {},
   "outputs": [],
   "source": [
    "for i in range (1, 34):\n",
    "    toutes_les_operation(i)"
   ]
  }
 ],
 "metadata": {
  "kernelspec": {
   "display_name": "scrapping",
   "language": "python",
   "name": "python3"
  },
  "language_info": {
   "codemirror_mode": {
    "name": "ipython",
    "version": 3
   },
   "file_extension": ".py",
   "mimetype": "text/x-python",
   "name": "python",
   "nbconvert_exporter": "python",
   "pygments_lexer": "ipython3",
   "version": "3.12.11"
  }
 },
 "nbformat": 4,
 "nbformat_minor": 5
}
